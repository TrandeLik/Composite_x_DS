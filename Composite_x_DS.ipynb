{
 "cells": [
  {
   "cell_type": "markdown",
   "metadata": {},
   "source": [
    "## Попытка в использование компоновщика"
   ]
  },
  {
   "cell_type": "markdown",
   "metadata": {},
   "source": [
    "Сейчас попробуем использовать шаблон \"компоновщик\" в... Анализе данных. Но сперва немного импортов:"
   ]
  },
  {
   "cell_type": "code",
   "execution_count": 2,
   "metadata": {},
   "outputs": [],
   "source": [
    "import warnings\n",
    "import xgboost as xgb\n",
    "from sklearn.ensemble import RandomForestRegressor\n",
    "from sklearn.linear_model import LinearRegression, Ridge\n",
    "from sklearn.metrics import r2_score\n",
    "from sklearn.model_selection import train_test_split\n",
    "import pandas as pd\n",
    "import numpy as np\n",
    "warnings.filterwarnings('ignore')\n",
    "warnings.simplefilter('ignore')"
   ]
  },
  {
   "cell_type": "markdown",
   "metadata": {},
   "source": [
    "# Что по данным?\n",
    "Возьмем их [из этого соревнования](https://www.kaggle.com/c/mercedes-benz-greener-manufacturing) ([классная статья об этом](https://habr.com/ru/company/ods/blog/336168/)). И теперь посмотрим, как можно было сделать решение. И заодно посмотрим на скор на трейн-тест сплите (использовать что-то другое для валидации лень)"
   ]
  },
  {
   "cell_type": "code",
   "execution_count": 6,
   "metadata": {},
   "outputs": [
    {
     "data": {
      "text/html": [
       "<div>\n",
       "<style scoped>\n",
       "    .dataframe tbody tr th:only-of-type {\n",
       "        vertical-align: middle;\n",
       "    }\n",
       "\n",
       "    .dataframe tbody tr th {\n",
       "        vertical-align: top;\n",
       "    }\n",
       "\n",
       "    .dataframe thead th {\n",
       "        text-align: right;\n",
       "    }\n",
       "</style>\n",
       "<table border=\"1\" class=\"dataframe\">\n",
       "  <thead>\n",
       "    <tr style=\"text-align: right;\">\n",
       "      <th></th>\n",
       "      <th>ID</th>\n",
       "      <th>y</th>\n",
       "      <th>X0</th>\n",
       "      <th>X1</th>\n",
       "      <th>X2</th>\n",
       "      <th>X3</th>\n",
       "      <th>X4</th>\n",
       "      <th>X5</th>\n",
       "      <th>X6</th>\n",
       "      <th>X8</th>\n",
       "      <th>...</th>\n",
       "      <th>X375</th>\n",
       "      <th>X376</th>\n",
       "      <th>X377</th>\n",
       "      <th>X378</th>\n",
       "      <th>X379</th>\n",
       "      <th>X380</th>\n",
       "      <th>X382</th>\n",
       "      <th>X383</th>\n",
       "      <th>X384</th>\n",
       "      <th>X385</th>\n",
       "    </tr>\n",
       "  </thead>\n",
       "  <tbody>\n",
       "    <tr>\n",
       "      <td>0</td>\n",
       "      <td>0</td>\n",
       "      <td>130.81</td>\n",
       "      <td>k</td>\n",
       "      <td>v</td>\n",
       "      <td>at</td>\n",
       "      <td>a</td>\n",
       "      <td>d</td>\n",
       "      <td>u</td>\n",
       "      <td>j</td>\n",
       "      <td>o</td>\n",
       "      <td>...</td>\n",
       "      <td>0</td>\n",
       "      <td>0</td>\n",
       "      <td>1</td>\n",
       "      <td>0</td>\n",
       "      <td>0</td>\n",
       "      <td>0</td>\n",
       "      <td>0</td>\n",
       "      <td>0</td>\n",
       "      <td>0</td>\n",
       "      <td>0</td>\n",
       "    </tr>\n",
       "    <tr>\n",
       "      <td>1</td>\n",
       "      <td>6</td>\n",
       "      <td>88.53</td>\n",
       "      <td>k</td>\n",
       "      <td>t</td>\n",
       "      <td>av</td>\n",
       "      <td>e</td>\n",
       "      <td>d</td>\n",
       "      <td>y</td>\n",
       "      <td>l</td>\n",
       "      <td>o</td>\n",
       "      <td>...</td>\n",
       "      <td>1</td>\n",
       "      <td>0</td>\n",
       "      <td>0</td>\n",
       "      <td>0</td>\n",
       "      <td>0</td>\n",
       "      <td>0</td>\n",
       "      <td>0</td>\n",
       "      <td>0</td>\n",
       "      <td>0</td>\n",
       "      <td>0</td>\n",
       "    </tr>\n",
       "    <tr>\n",
       "      <td>2</td>\n",
       "      <td>7</td>\n",
       "      <td>76.26</td>\n",
       "      <td>az</td>\n",
       "      <td>w</td>\n",
       "      <td>n</td>\n",
       "      <td>c</td>\n",
       "      <td>d</td>\n",
       "      <td>x</td>\n",
       "      <td>j</td>\n",
       "      <td>x</td>\n",
       "      <td>...</td>\n",
       "      <td>0</td>\n",
       "      <td>0</td>\n",
       "      <td>0</td>\n",
       "      <td>0</td>\n",
       "      <td>0</td>\n",
       "      <td>0</td>\n",
       "      <td>1</td>\n",
       "      <td>0</td>\n",
       "      <td>0</td>\n",
       "      <td>0</td>\n",
       "    </tr>\n",
       "    <tr>\n",
       "      <td>3</td>\n",
       "      <td>9</td>\n",
       "      <td>80.62</td>\n",
       "      <td>az</td>\n",
       "      <td>t</td>\n",
       "      <td>n</td>\n",
       "      <td>f</td>\n",
       "      <td>d</td>\n",
       "      <td>x</td>\n",
       "      <td>l</td>\n",
       "      <td>e</td>\n",
       "      <td>...</td>\n",
       "      <td>0</td>\n",
       "      <td>0</td>\n",
       "      <td>0</td>\n",
       "      <td>0</td>\n",
       "      <td>0</td>\n",
       "      <td>0</td>\n",
       "      <td>0</td>\n",
       "      <td>0</td>\n",
       "      <td>0</td>\n",
       "      <td>0</td>\n",
       "    </tr>\n",
       "    <tr>\n",
       "      <td>4</td>\n",
       "      <td>13</td>\n",
       "      <td>78.02</td>\n",
       "      <td>az</td>\n",
       "      <td>v</td>\n",
       "      <td>n</td>\n",
       "      <td>f</td>\n",
       "      <td>d</td>\n",
       "      <td>h</td>\n",
       "      <td>d</td>\n",
       "      <td>n</td>\n",
       "      <td>...</td>\n",
       "      <td>0</td>\n",
       "      <td>0</td>\n",
       "      <td>0</td>\n",
       "      <td>0</td>\n",
       "      <td>0</td>\n",
       "      <td>0</td>\n",
       "      <td>0</td>\n",
       "      <td>0</td>\n",
       "      <td>0</td>\n",
       "      <td>0</td>\n",
       "    </tr>\n",
       "  </tbody>\n",
       "</table>\n",
       "<p>5 rows × 378 columns</p>\n",
       "</div>"
      ],
      "text/plain": [
       "   ID       y  X0 X1  X2 X3 X4 X5 X6 X8  ...  X375  X376  X377  X378  X379  \\\n",
       "0   0  130.81   k  v  at  a  d  u  j  o  ...     0     0     1     0     0   \n",
       "1   6   88.53   k  t  av  e  d  y  l  o  ...     1     0     0     0     0   \n",
       "2   7   76.26  az  w   n  c  d  x  j  x  ...     0     0     0     0     0   \n",
       "3   9   80.62  az  t   n  f  d  x  l  e  ...     0     0     0     0     0   \n",
       "4  13   78.02  az  v   n  f  d  h  d  n  ...     0     0     0     0     0   \n",
       "\n",
       "   X380  X382  X383  X384  X385  \n",
       "0     0     0     0     0     0  \n",
       "1     0     0     0     0     0  \n",
       "2     0     1     0     0     0  \n",
       "3     0     0     0     0     0  \n",
       "4     0     0     0     0     0  \n",
       "\n",
       "[5 rows x 378 columns]"
      ]
     },
     "execution_count": 6,
     "metadata": {},
     "output_type": "execute_result"
    }
   ],
   "source": [
    "data = pd.read_csv('train.csv')\n",
    "data.head()"
   ]
  },
  {
   "cell_type": "code",
   "execution_count": 7,
   "metadata": {},
   "outputs": [
    {
     "name": "stdout",
     "output_type": "stream",
     "text": [
      "[11:37:14] WARNING: C:/Jenkins/workspace/xgboost-win64_release_0.90/src/objective/regression_obj.cu:152: reg:linear is now deprecated in favor of reg:squarederror.\n"
     ]
    },
    {
     "data": {
      "text/plain": [
       "0.5700646104533826"
      ]
     },
     "execution_count": 7,
     "metadata": {},
     "output_type": "execute_result"
    }
   ],
   "source": [
    "y = data['y']\n",
    "X = data.drop('y', axis=1).select_dtypes(include=[np.number])\n",
    "X_train, X_test, y_train, y_test = train_test_split(X, y, test_size=0.25, random_state=42)\n",
    "model = xgb.XGBRegressor()\n",
    "model.fit(X_train, y_train)\n",
    "r2_score(y_test, model.predict(X_test))"
   ]
  },
  {
   "cell_type": "markdown",
   "metadata": {},
   "source": [
    "# Окей, но это для слабаков\n",
    "Мы то тут хотим блеснуть знаниями шаблонов проектирования, поэтому будем писать мега-суперансамбль, просто потому что можем. Для этого возьмем и разобьем фичи на две группы, а то иначе скучно"
   ]
  },
  {
   "cell_type": "code",
   "execution_count": 8,
   "metadata": {},
   "outputs": [],
   "source": [
    "X_first_half_train = X_train.iloc[:, 0:181]\n",
    "X_second_half_train = X_train.iloc[:, 181:]\n",
    "X_first_half_test = X_test.iloc[:, 0:181]\n",
    "X_second_half_test = X_test.iloc[:, 181:]"
   ]
  },
  {
   "cell_type": "markdown",
   "metadata": {},
   "source": [
    "Теперь опишем, собственно, сам шаблон"
   ]
  },
  {
   "cell_type": "code",
   "execution_count": 11,
   "metadata": {},
   "outputs": [],
   "source": [
    "from __future__ import annotations\n",
    "from abc import ABC, abstractmethod\n",
    "\n",
    "\n",
    "# здесь совсем ничего необычного\n",
    "class Component(ABC):\n",
    "\n",
    "    @property\n",
    "    def parent(self) -> Component:\n",
    "        return self._parent\n",
    "    @parent.setter\n",
    "    def parent(self, parent: Component):\n",
    "        self._parent = parent\n",
    "\n",
    "    def add(self, component: Component) -> None:\n",
    "        pass\n",
    "    \n",
    "    def remove(self, component: Component) -> None:\n",
    "        pass\n",
    "    \n",
    "    @abstractmethod\n",
    "    def operation(self) -> str:\n",
    "        pass\n",
    "\n",
    "\n",
    "# теперь наш лист выглядит так\n",
    "class subModel(Component):\n",
    "    \n",
    "    #В лист мы будем передавать модель, которую собираемся использовать тут\n",
    "    def __init__(self, model):\n",
    "        self.model = model\n",
    "    \n",
    "    # в качестве операции будем обучать модель, а затем предсказывать результат\n",
    "    def operation(self, X_train, y_train, X_test):\n",
    "        self.model.fit(X_train, y_train)\n",
    "        return self.model.predict(X_test)\n",
    "\n",
    "\n",
    "# А это контейнер\n",
    "class Ensemble(Component):\n",
    "\n",
    "    # в каждую ветку дадим возможность передавать свой датасет\n",
    "    def __init__(self, *params) -> None:\n",
    "        self.X_train = X_train\n",
    "        self.y_train = y_train\n",
    "        self.X_test = X_test\n",
    "        self._children: List[Component] = []\n",
    "\n",
    "    def add(self, component: Component) -> None:\n",
    "        self._children.append(component)\n",
    "        component.parent = self\n",
    "        \n",
    "    def remove(self, component: Component) -> None:\n",
    "        self._children.remove(component)\n",
    "        component.parent = None\n",
    "\n",
    "    # здесь операция будет просто усреднять результаты дочерних элементов, потому что ничего прикольнее я придумать не смог\n",
    "    def operation(self, *params):\n",
    "        results = np.array([])\n",
    "        n = 0\n",
    "        for child in self._children:\n",
    "            n += 1\n",
    "            if len(results) > 0:\n",
    "                results += child.operation(self.X_train, self.y_train, self.X_test)\n",
    "            else:\n",
    "                results = child.operation(self.X_train, self.y_train, self.X_test)\n",
    "        return results / n"
   ]
  },
  {
   "cell_type": "markdown",
   "metadata": {},
   "source": [
    "# А теперь давайте тестировать это чудо"
   ]
  },
  {
   "cell_type": "markdown",
   "metadata": {},
   "source": [
    "Сперва попробуем взять просто бустинг и случайный лес и усреднить это на всех данных"
   ]
  },
  {
   "cell_type": "code",
   "execution_count": 13,
   "metadata": {},
   "outputs": [
    {
     "name": "stdout",
     "output_type": "stream",
     "text": [
      "[11:54:17] WARNING: C:/Jenkins/workspace/xgboost-win64_release_0.90/src/objective/regression_obj.cu:152: reg:linear is now deprecated in favor of reg:squarederror.\n"
     ]
    },
    {
     "data": {
      "text/plain": [
       "0.5284631285788601"
      ]
     },
     "execution_count": 13,
     "metadata": {},
     "output_type": "execute_result"
    }
   ],
   "source": [
    "result_model = Ensemble(X_train, y_train, X_test)\n",
    "model1 = subModel(RandomForestRegressor())\n",
    "model2 = subModel(xgb.XGBRegressor())\n",
    "result_model.add(model1)\n",
    "result_model.add(model2)\n",
    "# смотрим на результат\n",
    "r2_score(y_test, result_model.operation())"
   ]
  },
  {
   "cell_type": "markdown",
   "metadata": {},
   "source": [
    "А теперь сделаем более сложную структуру с использованием разделенного датасета"
   ]
  },
  {
   "cell_type": "code",
   "execution_count": 14,
   "metadata": {},
   "outputs": [
    {
     "name": "stdout",
     "output_type": "stream",
     "text": [
      "[12:00:17] WARNING: C:/Jenkins/workspace/xgboost-win64_release_0.90/src/objective/regression_obj.cu:152: reg:linear is now deprecated in favor of reg:squarederror.\n"
     ]
    },
    {
     "data": {
      "text/plain": [
       "0.5480029121304864"
      ]
     },
     "execution_count": 14,
     "metadata": {},
     "output_type": "execute_result"
    }
   ],
   "source": [
    "# первая ветка будет пользоваться только первой частью датасета, а обучать мы будем простые линейные модели\n",
    "branch1 = Ensemble(X_first_half_train, y_train, X_first_half_test)\n",
    "model1 = subModel(LinearRegression())\n",
    "model2 = subModel(Ridge(alpha=1.0))\n",
    "branch1.add(model1)\n",
    "branch1.add(model2)\n",
    "\n",
    "# второй ветке достается вторая часть данных, а моделями послужат: бустинг и рандомный лес\n",
    "branch2 = Ensemble(X_second_half_train, y_train, X_second_half_test)\n",
    "model3 = subModel(RandomForestRegressor())\n",
    "model4 = subModel(xgb.XGBRegressor())\n",
    "branch2.add(model3)\n",
    "branch2.add(model4)\n",
    "\n",
    "# а теперь соберем это все вместе\n",
    "result_model = Ensemble()\n",
    "result_model.add(branch1)\n",
    "result_model.add(branch2)\n",
    "\n",
    "# посмотрим на результат\n",
    "r2_score(y_test, result_model.operation())"
   ]
  },
  {
   "cell_type": "markdown",
   "metadata": {},
   "source": [
    "# Что в итоге?\n",
    "- На нашей валидирующей выборке этот ансамбль оказался слабее стандартного бустинга. При желании можно попробовать поиграться с другими моделями, везде подобрать параметры, заменить простое усреднение чем-то более интересным, еще что-то сделать с данными и протестировать все это уже на лидерборде\n",
    "- Все это выглядит слишком громоздко и непонятно для задачи с kaggle, ведь все то же самое делается в несколько раз короче\n",
    "- Если довольно плотно поработать над этой идеей, то можно сделать простенькую библиотечку для бэггинга/стекинга моделей (для интересующихся: [читать тут](https://neurohive.io/ru/osnovy-data-science/ansamblevye-metody-begging-busting-i-steking/))"
   ]
  }
 ],
 "metadata": {
  "kernelspec": {
   "display_name": "Python 3",
   "language": "python",
   "name": "python3"
  },
  "language_info": {
   "codemirror_mode": {
    "name": "ipython",
    "version": 3
   },
   "file_extension": ".py",
   "mimetype": "text/x-python",
   "name": "python",
   "nbconvert_exporter": "python",
   "pygments_lexer": "ipython3",
   "version": "3.7.4"
  }
 },
 "nbformat": 4,
 "nbformat_minor": 4
}
